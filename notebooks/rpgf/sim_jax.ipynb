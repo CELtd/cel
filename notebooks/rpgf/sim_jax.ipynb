{
 "cells": [
  {
   "cell_type": "code",
   "execution_count": 1,
   "metadata": {},
   "outputs": [
    {
     "name": "stdout",
     "output_type": "stream",
     "text": [
      "The autoreload extension is already loaded. To reload it, use:\n",
      "  %reload_ext autoreload\n"
     ]
    }
   ],
   "source": [
    "%load_ext autoreload\n",
    "%autoreload 2\n",
    "%matplotlib widget"
   ]
  },
  {
   "cell_type": "code",
   "execution_count": 2,
   "metadata": {},
   "outputs": [],
   "source": [
    "import matplotlib.pyplot as plt\n",
    "import numpy as np\n",
    "import pandas as pd\n",
    "import warnings\n",
    "\n",
    "from simulator import Simulation\n",
    "\n",
    "import jax.numpy as jnp\n",
    "from jax import grad, value_and_grad\n",
    "import numpy as np\n",
    "from scipy.optimize import minimize\n",
    "import numpy as np\n",
    "\n",
    "warnings.simplefilter(action='ignore', category=UserWarning)"
   ]
  },
  {
   "cell_type": "code",
   "execution_count": 8,
   "metadata": {},
   "outputs": [],
   "source": [
    "def simulate_base(quorum, min_amount, max_funding=30_000_000, num_voters=150, num_projects=643, num_mc=10):\n",
    "    simulation = Simulation()\n",
    "\n",
    "    simulation.initialize_round(\n",
    "        max_funding=max_funding\n",
    "    )\n",
    "    simulation.randomize_voters(\n",
    "        num_voters=num_voters, \n",
    "        willingness_to_spend=1.0, \n",
    "        laziness_factor=0.5, \n",
    "        expertise_factor=0.5\n",
    "    )\n",
    "    simulation.randomize_projects(\n",
    "        num_projects=num_projects\n",
    "    )\n",
    "\n",
    "    results = simulation.simulate_voting_and_scoring(\n",
    "        n=num_mc,\n",
    "        scoring_method='median',\n",
    "        quorum=quorum,\n",
    "        min_amount=min_amount,\n",
    "        normalize=True\n",
    "    )\n",
    "    # extract the results of interest to optimize\n",
    "    # create an aligned array of rating --> token_amount\n",
    "    data = results['data']\n",
    "    rating_arr = np.array([d['rating'] for d in data])\n",
    "    token_amount_arr = np.array([d['token_amount'] for d in data])\n",
    "\n",
    "    # normalize these so we can optimize\n",
    "    rating_arr = (rating_arr - rating_arr.min()) / (rating_arr.max() - rating_arr.min())\n",
    "    token_amount_arr = (token_amount_arr - token_amount_arr.min()) / (token_amount_arr.max() - token_amount_arr.min())\n",
    "\n",
    "    return rating_arr, token_amount_arr\n",
    "\n",
    "def loss_fn(quorum, min_amount=1500, max_funding=30_000_000, num_voters=150, num_projects=643, num_mc=10):\n",
    "    rating_arr, token_amount_arr = simulate_base(quorum, min_amount, max_funding, num_voters, num_projects, num_mc)\n",
    "    mse = np.sum((rating_arr - token_amount_arr) ** 2)\n",
    "    return mse\n",
    "\n",
    "def loss_full(quorum, min_amount, max_funding=30_000_000, num_voters=150, num_projects=643, num_mc=10):\n",
    "    rating_arr, token_amount_arr = simulate_base(quorum, min_amount, max_funding, num_voters, num_projects, num_mc)\n",
    "    mse = np.sum((rating_arr - token_amount_arr) ** 2)\n",
    "    return mse, rating_arr, token_amount_arr"
   ]
  },
  {
   "cell_type": "code",
   "execution_count": 9,
   "metadata": {},
   "outputs": [
    {
     "name": "stdout",
     "output_type": "stream",
     "text": [
      "\n",
      "Optimization terminated successfully;\n",
      "The returned value satisfies the termination criteria\n",
      "(using xtol =  1e-05 )\n"
     ]
    },
    {
     "data": {
      "text/plain": [
       " message: Solution found.\n",
       " success: True\n",
       "  status: 0\n",
       "     fun: 57.594779679043796\n",
       "       x: 16.394452868410852\n",
       "     nit: 32\n",
       "    nfev: 32"
      ]
     },
     "execution_count": 9,
     "metadata": {},
     "output_type": "execute_result"
    }
   ],
   "source": [
    "from scipy.optimize import minimize_scalar\n",
    "minimize_scalar(loss_fn, bounds=(1,30), options={'maxiter': 1000, 'disp':True})"
   ]
  },
  {
   "cell_type": "code",
   "execution_count": null,
   "metadata": {},
   "outputs": [],
   "source": [
    "initial_params = np.array([10.0, 1000.0])\n",
    "result = minimize(loss_fn, initial_params, \n",
    "                  bounds=[(1, 30), (200, 2000)], \n",
    "                  options={'disp': True, 'maxiter': 10})\n",
    "optimized_params = result.x"
   ]
  },
  {
   "cell_type": "code",
   "execution_count": null,
   "metadata": {},
   "outputs": [],
   "source": [
    "result"
   ]
  },
  {
   "cell_type": "code",
   "execution_count": null,
   "metadata": {},
   "outputs": [],
   "source": [
    "configs = [\n",
    "    (1, 1),\n",
    "    (5, 200),\n",
    "    (17, 1500),\n",
    "    (100, 2500),\n",
    "]\n",
    "config2results = {}\n",
    "for c in configs:\n",
    "    mse, rating_arr, token_amount_arr = loss_full(c)\n",
    "    config2results[c] = (rating_arr, token_amount_arr, mse)"
   ]
  },
  {
   "cell_type": "code",
   "execution_count": null,
   "metadata": {},
   "outputs": [],
   "source": [
    "plt.figure()\n",
    "for c in configs:\n",
    "    rating_arr, token_amount_arr, loss_val = config2results[c]\n",
    "    plt.scatter(rating_arr, token_amount_arr, label=f\"{loss_val}\")\n",
    "plt.legend()\n",
    "plt.xlabel('Impact')\n",
    "plt.ylabel('Token Allocation')"
   ]
  },
  {
   "cell_type": "code",
   "execution_count": null,
   "metadata": {},
   "outputs": [],
   "source": [
    "# initialize to known values\n",
    "params = jnp.asarray([17.0, 1500.0])\n",
    "\n",
    "# Compute gradient of the loss function\n",
    "grad_loss_fn = value_and_grad(loss)\n",
    "\n",
    "# Optimize the parameters using gradient descent\n",
    "learning_rate = 0.1\n",
    "num_iterations = 10\n",
    "\n",
    "for i in range(num_iterations):\n",
    "    mse, gradient = grad_loss_fn(params)\n",
    "    params -= learning_rate * gradient\n",
    "    print(mse, gradient, params)\n",
    "\n",
    "print(\"Optimized parameters (m, c):\", params)"
   ]
  },
  {
   "cell_type": "code",
   "execution_count": null,
   "metadata": {},
   "outputs": [],
   "source": [
    "quorum = 17\n",
    "min_amount = 1500\n",
    "rating_arr, token_amounts_arr = simulate_base((quorum, min_amount), num_mc=10)"
   ]
  },
  {
   "cell_type": "code",
   "execution_count": null,
   "metadata": {},
   "outputs": [],
   "source": [
    "plt.figure()\n",
    "plt.scatter(rating_arr, token_amounts_arr)"
   ]
  },
  {
   "cell_type": "code",
   "execution_count": null,
   "metadata": {},
   "outputs": [],
   "source": []
  }
 ],
 "metadata": {
  "kernelspec": {
   "display_name": "cel",
   "language": "python",
   "name": "python3"
  },
  "language_info": {
   "codemirror_mode": {
    "name": "ipython",
    "version": 3
   },
   "file_extension": ".py",
   "mimetype": "text/x-python",
   "name": "python",
   "nbconvert_exporter": "python",
   "pygments_lexer": "ipython3",
   "version": "3.10.13"
  }
 },
 "nbformat": 4,
 "nbformat_minor": 2
}
